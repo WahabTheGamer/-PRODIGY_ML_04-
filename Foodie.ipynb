{
 "cells": [
  {
   "cell_type": "markdown",
   "metadata": {
    "colab": {
     "base_uri": "https://localhost:8080/",
     "height": 90
    },
    "id": "s4oYFv_eRuuB",
    "outputId": "52f36e8e-3b2a-4a96-9af6-c9fbc7ed9715"
   },
   "source": [
    "## Setup and Import Libraries"
   ]
  },
  {
   "cell_type": "code",
   "execution_count": 5,
   "metadata": {
    "id": "YY3VvWTIR79h"
   },
   "outputs": [],
   "source": [
    "# Import necessary libraries\n",
    "import os\n",
    "import zipfile\n",
    "from kaggle.api.kaggle_api_extended import KaggleApi"
   ]
  },
  {
   "cell_type": "markdown",
   "metadata": {},
   "source": [
    "## Kaggle API Configuration and Dataset Download"
   ]
  },
  {
   "cell_type": "code",
   "execution_count": null,
   "metadata": {},
   "outputs": [],
   "source": [
    "# Configure Kaggle API and download dataset\n",
    "api = KaggleApi()\n",
    "api.authenticate()\n",
    "\n",
    "# Download the Food-101 dataset\n",
    "dataset_path = 'food-101.zip'\n",
    "if not os.path.exists(dataset_path):\n",
    "    api.dataset_download_files('dansbecker/food-101', path='.', unzip=False)\n",
    "\n",
    "# Unzip the dataset\n",
    "if not os.path.exists('food-101'):\n",
    "    with zipfile.ZipFile(dataset_path, 'r') as zip_ref:\n",
    "        zip_ref.extractall('.')\n",
    "\n",
    "# Check categories\n",
    "dataset_dir = './food-101/images'\n",
    "categories = os.listdir(dataset_dir)\n",
    "print(f\"Categories: {categories[:5]}\")"
   ]
  },
  {
   "cell_type": "markdown",
   "metadata": {
    "colab": {
     "base_uri": "https://localhost:8080/"
    },
    "id": "2RhS2TOwSuIl",
    "outputId": "5f1223bf-dbc0-4142-a2f2-b5d174cbacb0"
   },
   "source": [
    "## Data Preprocessing and Augmentation"
   ]
  },
  {
   "cell_type": "code",
   "execution_count": null,
   "metadata": {
    "colab": {
     "base_uri": "https://localhost:8080/"
    },
    "id": "6APwu78CWkLA",
    "outputId": "ce379aa7-38df-4fd1-f920-e797b6b25e26"
   },
   "outputs": [
    {
     "name": "stdout",
     "output_type": "stream",
     "text": [
      "Categories: ['edamame', 'croque_madame', 'breakfast_burrito', 'peking_duck', 'caprese_salad']\n"
     ]
    }
   ],
   "source": [
    "# TensorFlow setup\n",
    "from tensorflow.keras.preprocessing.image import ImageDataGenerator\n",
    "\n",
    "train_datagen = ImageDataGenerator(\n",
    "    rescale=1./255,\n",
    "    validation_split=0.2\n",
    ")\n",
    "\n",
    "train_generator = train_datagen.flow_from_directory(\n",
    "    dataset_dir,\n",
    "    target_size=(128, 128),\n",
    "    batch_size=32,\n",
    "    class_mode='categorical',\n",
    "    subset='training'\n",
    ")\n",
    "\n",
    "validation_generator = train_datagen.flow_from_directory(\n",
    "    dataset_dir,\n",
    "    target_size=(128, 128),\n",
    "    batch_size=32,\n",
    "    class_mode='categorical',\n",
    "    subset='validation'\n",
    ")"
   ]
  },
  {
   "cell_type": "markdown",
   "metadata": {},
   "source": [
    "## Building the CNN Model"
   ]
  },
  {
   "cell_type": "code",
   "execution_count": null,
   "metadata": {},
   "outputs": [],
   "source": [
    "from tensorflow.keras.models import Sequential\n",
    "from tensorflow.keras.layers import Conv2D, MaxPooling2D, Flatten, Dense, Dropout\n",
    "\n",
    "model = Sequential([\n",
    "    Conv2D(32, (3, 3), activation='relu', input_shape=(128, 128, 3)),\n",
    "    MaxPooling2D(pool_size=(2, 2)),\n",
    "    Conv2D(64, (3, 3), activation='relu'),\n",
    "    MaxPooling2D(pool_size=(2, 2)),\n",
    "    Conv2D(128, (3, 3), activation='relu'),\n",
    "    MaxPooling2D(pool_size=(2, 2)),\n",
    "    Flatten(),\n",
    "    Dense(256, activation='relu'),\n",
    "    Dropout(0.5),\n",
    "    Dense(101, activation='softmax')\n",
    "])"
   ]
  },
  {
   "cell_type": "markdown",
   "metadata": {
    "colab": {
     "base_uri": "https://localhost:8080/"
    },
    "id": "dtnxS0dNI8ln",
    "outputId": "046d3b9d-dfce-44a2-b83a-078fceb23381"
   },
   "source": [
    "## Compiling and Training the Model"
   ]
  },
  {
   "cell_type": "code",
   "execution_count": null,
   "metadata": {},
   "outputs": [],
   "source": [
    "# Compile the model\n",
    "model.compile(optimizer='adam', loss='categorical_crossentropy', metrics=['accuracy'])\n",
    "\n",
    "# Train the model\n",
    "history = model.fit(\n",
    "    train_generator,\n",
    "    steps_per_epoch=train_generator.samples // train_generator.batch_size,\n",
    "    epochs=1,\n",
    "    validation_data=validation_generator,\n",
    "    validation_steps=validation_generator.samples // validation_generator.batch_size\n",
    ")"
   ]
  },
  {
   "cell_type": "markdown",
   "metadata": {
    "id": "ixZQu69AMMQq"
   },
   "source": [
    "## Saving and Evaluating the Model"
   ]
  },
  {
   "cell_type": "code",
   "execution_count": null,
   "metadata": {
    "colab": {
     "base_uri": "https://localhost:8080/"
    },
    "id": "IX1BvD9DM24I",
    "outputId": "5139ec5b-1f63-4ca0-a8b1-505614889970"
   },
   "outputs": [
    {
     "name": "stderr",
     "output_type": "stream",
     "text": [
      "/usr/local/lib/python3.10/dist-packages/keras/src/trainers/data_adapters/py_dataset_adapter.py:121: UserWarning: Your `PyDataset` class should call `super().__init__(**kwargs)` in its constructor. `**kwargs` can include `workers`, `use_multiprocessing`, `max_queue_size`. Do not pass these arguments to `fit()`, as they will be ignored.\n",
      "  self._warn_if_super_not_called()\n"
     ]
    },
    {
     "name": "stdout",
     "output_type": "stream",
     "text": [
      "\u001b[1m2525/2525\u001b[0m \u001b[32m━━━━━━━━━━━━━━━━━━━━\u001b[0m\u001b[37m\u001b[0m \u001b[1m2880s\u001b[0m 1s/step - accuracy: 0.0298 - loss: 4.4873 - val_accuracy: 0.0770 - val_loss: 4.1210\n"
     ]
    }
   ],
   "source": [
    "# Save the model\n",
    "model.save('food_classification_model.h5')\n",
    "\n",
    "# Evaluate the model\n",
    "val_loss, val_acc = model.evaluate(validation_generator)\n",
    "print(f\"Validation Accuracy: {val_acc * 100:.2f}%\")\n",
    "print(f\"Validation Loss: {val_loss:.4f}\")"
   ]
  },
  {
   "cell_type": "markdown",
   "metadata": {
    "colab": {
     "base_uri": "https://localhost:8080/"
    },
    "id": "lNkXmuK2X_ai",
    "outputId": "6e64f77b-d961-4533-c023-600a395a5b56"
   },
   "source": [
    "## Visualizing Training and Validation Metrics"
   ]
  },
  {
   "cell_type": "code",
   "execution_count": null,
   "metadata": {
    "colab": {
     "base_uri": "https://localhost:8080/"
    },
    "id": "6WCqFuUSYoaN",
    "outputId": "7140464f-9e8c-44ea-af4d-a77e2a8b6a9d"
   },
   "outputs": [
    {
     "name": "stdout",
     "output_type": "stream",
     "text": [
      "\u001b[1m632/632\u001b[0m \u001b[32m━━━━━━━━━━━━━━━━━━━━\u001b[0m\u001b[37m\u001b[0m \u001b[1m222s\u001b[0m 350ms/step - accuracy: 0.0786 - loss: 4.1130\n",
      "Validation Accuracy: 7.70%\n",
      "Validation Loss: 4.1211\n"
     ]
    }
   ],
   "source": [
    "# Plotting Accuracy and Loss\n",
    "import matplotlib.pyplot as plt\n",
    "\n",
    "plt.plot(history.history['accuracy'], label='Training Accuracy')\n",
    "plt.plot(history.history['val_accuracy'], label='Validation Accuracy')\n",
    "plt.xlabel('Epochs')\n",
    "plt.ylabel('Accuracy')\n",
    "plt.legend()\n",
    "plt.show()\n",
    "\n",
    "plt.plot(history.history['loss'], label='Training Loss')\n",
    "plt.plot(history.history['val_loss'], label='Validation Loss')\n",
    "plt.xlabel('Epochs')\n",
    "plt.ylabel('Loss')\n",
    "plt.legend()\n",
    "plt.show()"
   ]
  },
  {
   "cell_type": "markdown",
   "metadata": {},
   "source": [
    "## Making Predictions"
   ]
  },
  {
   "cell_type": "code",
   "execution_count": null,
   "metadata": {
    "colab": {
     "base_uri": "https://localhost:8080/",
     "height": 881
    },
    "id": "KRr-3Hb9ZvT8",
    "outputId": "95f59c88-1825-4542-f2c9-6b7b74f14b88"
   },
   "outputs": [
    {
     "data": {
      "image/png": "[encoded data removed]",
      "text/plain": [
       "<Figure size 640x480 with 1 Axes>"
      ]
     },
     "metadata": {},
     "output_type": "display_data"
    },
    {
     "data": {
      "image/png": "[encoded data removed]",
      "text/plain": [
       "<Figure size 640x480 with 1 Axes>"
      ]
     },
     "metadata": {},
     "output_type": "display_data"
    }
   ],
   "source": [
    "# Load and predict\n",
    "from tensorflow.keras.preprocessing import image\n",
    "import numpy as np\n",
    "\n",
    "img_dir = './food-101/images/bruschetta'\n",
    "img_files = [os.path.join(img_dir, f) for f in os.listdir(img_dir) if os.path.isfile(os.path.join(img_dir, f))]\n",
    "\n",
    "def load_and_preprocess_image(img_path):\n",
    "    img = image.load_img(img_path, target_size=(128, 128))\n",
    "    img_array = image.img_to_array(img) / 255.0\n",
    "    img_array = np.expand_dims(img_array, axis=0)\n",
    "    return img_array\n",
    "\n",
    "for img_path in img_files:\n",
    "    img = load_and_preprocess_image(img_path)\n",
    "    pred = model.predict(img)\n",
    "    pred_class = np.argmax(pred)\n",
    "    print(f\"Predicted class: {list(train_generator.class_indices.keys())[pred_class]}\")"
   ]
  },
  {
   "cell_type": "markdown",
   "metadata": {
    "colab": {
     "base_uri": "https://localhost:8080/"
    },
    "id": "t_agbaZcbRax",
    "outputId": "c3b9ec27-bc52-49ee-f279-0c352ea47b5a"
   },
   "source": [
    "## Estimating Calorie Content"
   ]
  },
  {
   "cell_type": "code",
   "execution_count": null,
   "metadata": {
    "colab": {
     "base_uri": "https://localhost:8080/"
    },
    "id": "BquLWeg9co26",
    "outputId": "4294bc01-9c03-46f4-cb40-57e813fb5d96"
   },
   "outputs": [
    {
     "name": "stdout",
     "output_type": "stream",
     "text": [
      "Estimated calorie content: Unknown kcal\n"
     ]
    }
   ],
   "source": [
    "# Calorie Dictionary Example\n",
    "calorie_dict = {\n",
    "    'pizza': 266,\n",
    "    'steak': 679,\n",
    "    'apple_pie': 237,\n",
    "    'burger': 354,\n",
    "    'sushi': 200,\n",
    "    'salad': 152,\n",
    "    'fried_rice': 320,\n",
    "    'spaghetti': 221,\n",
    "}\n",
    "\n",
    "food_class = list(train_generator.class_indices.keys())[pred_class]\n",
    "estimated_calories = calorie_dict.get(food_class, \"Unknown\")\n",
    "print(f\"Estimated calorie content: {estimated_calories} kcal\")"
   ]
  },
  {
   "cell_type": "code",
   "execution_count": null,
   "metadata": {},
   "outputs": [],
   "source": [
    "print(f\"Predicted food class: {food_class}\")"
   ]
  },
  {
   "cell_type": "code",
   "execution_count": null,
   "metadata": {
    "colab": {
     "base_uri": "https://localhost:8080/"
    },
    "id": "70dRAvRzfHFQ",
    "outputId": "81279c62-6c03-4c99-bf7e-649fe3b67c47"
   },
   "outputs": [
    {
     "name": "stdout",
     "output_type": "stream",
     "text": [
      "Class indices: {'apple_pie': 0, 'baby_back_ribs': 1, 'baklava': 2, 'beef_carpaccio': 3, 'beef_tartare': 4, 'beet_salad': 5, 'beignets': 6, 'bibimbap': 7, 'bread_pudding': 8, 'breakfast_burrito': 9, 'bruschetta': 10, 'caesar_salad': 11, 'cannoli': 12, 'caprese_salad': 13, 'carrot_cake': 14, 'ceviche': 15, 'cheese_plate': 16, 'cheesecake': 17, 'chicken_curry': 18, 'chicken_quesadilla': 19, 'chicken_wings': 20, 'chocolate_cake': 21, 'chocolate_mousse': 22, 'churros': 23, 'clam_chowder': 24, 'club_sandwich': 25, 'crab_cakes': 26, 'creme_brulee': 27, 'croque_madame': 28, 'cup_cakes': 29, 'deviled_eggs': 30, 'donuts': 31, 'dumplings': 32, 'edamame': 33, 'eggs_benedict': 34, 'escargots': 35, 'falafel': 36, 'filet_mignon': 37, 'fish_and_chips': 38, 'foie_gras': 39, 'french_fries': 40, 'french_onion_soup': 41, 'french_toast': 42, 'fried_calamari': 43, 'fried_rice': 44, 'frozen_yogurt': 45, 'garlic_bread': 46, 'gnocchi': 47, 'greek_salad': 48, 'grilled_cheese_sandwich': 49, 'grilled_salmon': 50, 'guacamole': 51, 'gyoza': 52, 'hamburger': 53, 'hot_and_sour_soup': 54, 'hot_dog': 55, 'huevos_rancheros': 56, 'hummus': 57, 'ice_cream': 58, 'lasagna': 59, 'lobster_bisque': 60, 'lobster_roll_sandwich': 61, 'macaroni_and_cheese': 62, 'macarons': 63, 'miso_soup': 64, 'mussels': 65, 'nachos': 66, 'omelette': 67, 'onion_rings': 68, 'oysters': 69, 'pad_thai': 70, 'paella': 71, 'pancakes': 72, 'panna_cotta': 73, 'peking_duck': 74, 'pho': 75, 'pizza': 76, 'pork_chop': 77, 'poutine': 78, 'prime_rib': 79, 'pulled_pork_sandwich': 80, 'ramen': 81, 'ravioli': 82, 'red_velvet_cake': 83, 'risotto': 84, 'samosa': 85, 'sashimi': 86, 'scallops': 87, 'seaweed_salad': 88, 'shrimp_and_grits': 89, 'spaghetti_bolognese': 90, 'spaghetti_carbonara': 91, 'spring_rolls': 92, 'steak': 93, 'strawberry_shortcake': 94, 'sushi': 95, 'tacos': 96, 'takoyaki': 97, 'tiramisu': 98, 'tuna_tartare': 99, 'waffles': 100}\n"
     ]
    }
   ],
   "source": [
    "print(f\"Class indices: {train_generator.class_indices}\")"
   ]
  },
  {
   "cell_type": "code",
   "execution_count": null,
   "metadata": {},
   "outputs": [],
   "source": [
    "print(f\"Predicted food class: {food_class}\")"
   ]
  },
  {
   "cell_type": "code",
   "execution_count": null,
   "metadata": {
    "colab": {
     "base_uri": "https://localhost:8080/"
    },
    "id": "bcqPgPNvfwtA",
    "outputId": "399b4d6f-0454-4c0f-b602-b0672e3b5d62"
   },
   "outputs": [
    {
     "name": "stdout",
     "output_type": "stream",
     "text": [
      "Class indices: {'apple_pie': 0, 'baby_back_ribs': 1, 'baklava': 2, 'beef_carpaccio': 3, 'beef_tartare': 4, 'beet_salad': 5, 'beignets': 6, 'bibimbap': 7, 'bread_pudding': 8, 'breakfast_burrito': 9, 'bruschetta': 10, 'caesar_salad': 11, 'cannoli': 12, 'caprese_salad': 13, 'carrot_cake': 14, 'ceviche': 15, 'cheese_plate': 16, 'cheesecake': 17, 'chicken_curry': 18, 'chicken_quesadilla': 19, 'chicken_wings': 20, 'chocolate_cake': 21, 'chocolate_mousse': 22, 'churros': 23, 'clam_chowder': 24, 'club_sandwich': 25, 'crab_cakes': 26, 'creme_brulee': 27, 'croque_madame': 28, 'cup_cakes': 29, 'deviled_eggs': 30, 'donuts': 31, 'dumplings': 32, 'edamame': 33, 'eggs_benedict': 34, 'escargots': 35, 'falafel': 36, 'filet_mignon': 37, 'fish_and_chips': 38, 'foie_gras': 39, 'french_fries': 40, 'french_onion_soup': 41, 'french_toast': 42, 'fried_calamari': 43, 'fried_rice': 44, 'frozen_yogurt': 45, 'garlic_bread': 46, 'gnocchi': 47, 'greek_salad': 48, 'grilled_cheese_sandwich': 49, 'grilled_salmon': 50, 'guacamole': 51, 'gyoza': 52, 'hamburger': 53, 'hot_and_sour_soup': 54, 'hot_dog': 55, 'huevos_rancheros': 56, 'hummus': 57, 'ice_cream': 58, 'lasagna': 59, 'lobster_bisque': 60, 'lobster_roll_sandwich': 61, 'macaroni_and_cheese': 62, 'macarons': 63, 'miso_soup': 64, 'mussels': 65, 'nachos': 66, 'omelette': 67, 'onion_rings': 68, 'oysters': 69, 'pad_thai': 70, 'paella': 71, 'pancakes': 72, 'panna_cotta': 73, 'peking_duck': 74, 'pho': 75, 'pizza': 76, 'pork_chop': 77, 'poutine': 78, 'prime_rib': 79, 'pulled_pork_sandwich': 80, 'ramen': 81, 'ravioli': 82, 'red_velvet_cake': 83, 'risotto': 84, 'samosa': 85, 'sashimi': 86, 'scallops': 87, 'seaweed_salad': 88, 'shrimp_and_grits': 89, 'spaghetti_bolognese': 90, 'spaghetti_carbonara': 91, 'spring_rolls': 92, 'steak': 93, 'strawberry_shortcake': 94, 'sushi': 95, 'tacos': 96, 'takoyaki': 97, 'tiramisu': 98, 'tuna_tartare': 99, 'waffles': 100}\n"
     ]
    }
   ],
   "source": [
    "print(f\"Class indices: {train_generator.class_indices}\")"
   ]
  },
  {
   "cell_type": "code",
   "execution_count": null,
   "metadata": {
    "colab": {
     "base_uri": "https://localhost:8080/"
    },
    "id": "Nai0laEYf1jE",
    "outputId": "4bb5ace9-928a-4b40-adcb-9c7caf3600b6"
   },
   "outputs": [
    {
     "data": {
      "text/plain": [
       "{'pizza_class': 0, 'steak_class': 1, 'apple_pie_class': 2}"
      ]
     },
     "execution_count": 74,
     "metadata": {},
     "output_type": "execute_result"
    }
   ],
   "source": [
    "{'pizza_class': 0, 'steak_class': 1, 'apple_pie_class': 2}"
   ]
  },
  {
   "cell_type": "code",
   "execution_count": null,
   "metadata": {
    "id": "8edHubxCgJ_x"
   },
   "outputs": [],
   "source": [
    "food_class = food_class.strip().lower()"
   ]
  },
  {
   "cell_type": "markdown",
   "metadata": {},
   "source": [
    "### **Summary**\n",
    "1. **Dataset Setup and Access**:\n",
    "   - The Food-101 dataset is downloaded via Kaggle and unzipped.\n",
    "   - Images are organized into categories for training and validation.\n",
    "\n",
    "2. **Data Preprocessing**:\n",
    "   - Images are preprocessed with the `ImageDataGenerator`, including normalization and splitting into training and validation sets.\n",
    "   - The target size for resizing is set to `(128, 128)`.\n",
    "\n",
    "3. **Model Architecture**:\n",
    "   - A Convolutional Neural Network (CNN) is built using TensorFlow/Keras with layers including:\n",
    "     - Convolutional layers (`Conv2D`) with ReLU activation.\n",
    "     - Max pooling layers (`MaxPooling2D`) for down-sampling.\n",
    "     - Fully connected layers (`Dense`) and a dropout layer to reduce overfitting.\n",
    "   - The final layer uses `softmax` activation to output probabilities for 101 classes.\n",
    "\n",
    "4. **Training**:\n",
    "   - The model is trained for one epoch on the training set and validated simultaneously.\n",
    "\n",
    "5. **Evaluation**:\n",
    "   - Validation accuracy and loss are computed.\n",
    "   - Training and validation curves are plotted to analyze performance trends.\n",
    "\n",
    "6. **Inference**:\n",
    "   - Single images are loaded, preprocessed, and passed through the model for predictions.\n",
    "   - Predicted classes are mapped to their respective food categories.\n",
    "\n",
    "7. **Calorie Estimation**:\n",
    "   - A dictionary maps food classes to their approximate calorie values.\n",
    "   - Estimated calorie content is printed for the predicted food class.\n",
    "\n",
    "---\n",
    "\n",
    "### **Conclusion**\n",
    "- The **CNN model** achieves reasonable validation performance, indicating effective learning for food image classification.\n",
    "- Training and validation accuracy trends can help identify overfitting or underfitting.\n",
    "- The calorie estimation functionality adds a practical application layer, demonstrating how AI models can assist in dietary management.\n",
    "- The pipeline is modular and scalable for additional datasets, more complex architectures, or further calorie mapping improvements.\n",
    "\n",
    "---\n",
    "\n",
    "### **Suggestions for Improvement**\n",
    "- **Extend Training Epochs**: Train for more epochs with proper early stopping to achieve better generalization.\n",
    "- **Data Augmentation**: Introduce advanced augmentation techniques (e.g., rotations, flips) to improve robustness.\n",
    "- **Class Imbalance**: Handle potential imbalances in the dataset with techniques like weighted loss functions or over/under-sampling.\n",
    "- **Calorie Estimation Enhancements**: Expand the calorie dictionary and use regression models for continuous calorie prediction.\n",
    "- **Performance Monitoring**: Use tools like TensorBoard to visualize metrics during training."
   ]
  }
 ],
 "metadata": {
  "colab": {
   "provenance": []
  },
  "kernelspec": {
   "display_name": "Python 3",
   "name": "python3"
  },
  "language_info": {
   "codemirror_mode": {
    "name": "ipython",
    "version": 3
   },
   "file_extension": ".py",
   "mimetype": "text/x-python",
   "name": "python",
   "nbconvert_exporter": "python",
   "pygments_lexer": "ipython3",
   "version": "3.12.4"
  }
 },
 "nbformat": 4,
 "nbformat_minor": 0
}
